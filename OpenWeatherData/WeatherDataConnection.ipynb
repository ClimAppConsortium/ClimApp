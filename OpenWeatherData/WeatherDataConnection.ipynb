{
 "cells": [
  {
   "cell_type": "markdown",
   "metadata": {},
   "source": [
    "## ClimApp - connection to weather data\n",
    "This notebook will test connections to Deutscher Wetterdiens (DWD) and Open World Map (OWM) to test the functionality and use for the app, ClimApp."
   ]
  },
  {
   "cell_type": "markdown",
   "metadata": {},
   "source": [
    "### German data only - testing"
   ]
  },
  {
   "cell_type": "code",
   "execution_count": 1,
   "metadata": {
    "collapsed": true
   },
   "outputs": [],
   "source": [
    "import re\n",
    "import urllib2\n",
    "import json\n",
    "import numpy as np\n",
    "import pandas as pd\n",
    "response = urllib2.urlopen('ftp://ftp-cdc.dwd.de/pub/CDC/help/KL_Tageswerte_Beschreibung_Stationen.txt')"
   ]
  },
  {
   "cell_type": "code",
   "execution_count": 49,
   "metadata": {
    "collapsed": false
   },
   "outputs": [],
   "source": [
    "lines = html.split(\"\\n\")"
   ]
  },
  {
   "cell_type": "markdown",
   "metadata": {},
   "source": [
    "**Using Kleene closure to remove whitespace**\n",
    "\n",
    "Cheatsheet on regular expressions [https://regexr.com/](https://regexr.com/)"
   ]
  },
  {
   "cell_type": "code",
   "execution_count": 87,
   "metadata": {
    "collapsed": false
   },
   "outputs": [],
   "source": [
    "# get each line on right form for data frame with regular expression \n",
    "# replacing 1 or more occurences of whitespace with only one whitespace,\n",
    "single_whitespaced = [re.sub(r'(\\s+)', \" \", line).strip() for line in lines]\n",
    "\n",
    "# split on whitespace to get list\n",
    "list_of_values     = [line.split(\" \") for line in single_whitespaced]\n",
    "short_list         = [line[:6] for line in list_of_values]"
   ]
  },
  {
   "cell_type": "code",
   "execution_count": 91,
   "metadata": {
    "collapsed": false
   },
   "outputs": [
    {
     "data": {
      "text/html": [
       "<div>\n",
       "<table border=\"1\" class=\"dataframe\">\n",
       "  <thead>\n",
       "    <tr style=\"text-align: right;\">\n",
       "      <th></th>\n",
       "      <th>von_datum</th>\n",
       "      <th>bis_datum</th>\n",
       "      <th>Stationshoehe</th>\n",
       "      <th>geoBreite</th>\n",
       "      <th>geoLaenge</th>\n",
       "    </tr>\n",
       "    <tr>\n",
       "      <th>Stations_id</th>\n",
       "      <th></th>\n",
       "      <th></th>\n",
       "      <th></th>\n",
       "      <th></th>\n",
       "      <th></th>\n",
       "    </tr>\n",
       "  </thead>\n",
       "  <tbody>\n",
       "    <tr>\n",
       "      <th>00001</th>\n",
       "      <td>19370101</td>\n",
       "      <td>19860630</td>\n",
       "      <td>478</td>\n",
       "      <td>47.8413</td>\n",
       "      <td>8.8493</td>\n",
       "    </tr>\n",
       "    <tr>\n",
       "      <th>00003</th>\n",
       "      <td>18910101</td>\n",
       "      <td>20110331</td>\n",
       "      <td>202</td>\n",
       "      <td>50.7827</td>\n",
       "      <td>6.0941</td>\n",
       "    </tr>\n",
       "    <tr>\n",
       "      <th>00044</th>\n",
       "      <td>19710301</td>\n",
       "      <td>20171026</td>\n",
       "      <td>44</td>\n",
       "      <td>52.9335</td>\n",
       "      <td>8.2370</td>\n",
       "    </tr>\n",
       "    <tr>\n",
       "      <th>00052</th>\n",
       "      <td>19730101</td>\n",
       "      <td>20011231</td>\n",
       "      <td>46</td>\n",
       "      <td>53.6623</td>\n",
       "      <td>10.1990</td>\n",
       "    </tr>\n",
       "    <tr>\n",
       "      <th>00061</th>\n",
       "      <td>19750701</td>\n",
       "      <td>19780831</td>\n",
       "      <td>339</td>\n",
       "      <td>48.8443</td>\n",
       "      <td>12.6171</td>\n",
       "    </tr>\n",
       "  </tbody>\n",
       "</table>\n",
       "</div>"
      ],
      "text/plain": [
       "            von_datum bis_datum Stationshoehe geoBreite geoLaenge\n",
       "Stations_id                                                      \n",
       "00001        19370101  19860630           478   47.8413    8.8493\n",
       "00003        18910101  20110331           202   50.7827    6.0941\n",
       "00044        19710301  20171026            44   52.9335    8.2370\n",
       "00052        19730101  20011231            46   53.6623   10.1990\n",
       "00061        19750701  19780831           339   48.8443   12.6171"
      ]
     },
     "execution_count": 91,
     "metadata": {},
     "output_type": "execute_result"
    }
   ],
   "source": [
    "# convert 2d array to pandas dataframe\n",
    "info_df = pd.DataFrame(short_list[2:], columns = short_list[0])\n",
    "\n",
    "indexed = info_df.set_index(['Stations_id'])\n",
    "# show dataframe format\n",
    "indexed.head()"
   ]
  },
  {
   "cell_type": "code",
   "execution_count": 102,
   "metadata": {
    "collapsed": false
   },
   "outputs": [
    {
     "name": "stdout",
     "output_type": "stream",
     "text": [
      "55.0110\n",
      "None\n",
      "9.9881\n",
      "None\n"
     ]
    }
   ],
   "source": [
    "# FIND MAX AND MIN LON LAT COORDS\n",
    "print max(indexed.geoBreite)\n",
    "print min(indexed.geoBreite)\n",
    "print max(indexed.geoLaenge)\n",
    "print min(indexed.geoLaenge) # 6.0"
   ]
  },
  {
   "cell_type": "code",
   "execution_count": 161,
   "metadata": {
    "collapsed": false
   },
   "outputs": [],
   "source": [
    "import geoplotlib as gpl\n",
    "from geoplotlib.utils import BoundingBox\n",
    "import matplotlib.pyplot as plt\n",
    "%matplotlib inline\n",
    "\n",
    "# Choosing columns for plotting \n",
    "plot_data = {}\n",
    "plot_data = indexed[['geoBreite','geoLaenge']]\n",
    "plot_data.columns = ['lat','lon']"
   ]
  },
  {
   "cell_type": "code",
   "execution_count": 162,
   "metadata": {
    "collapsed": false
   },
   "outputs": [
    {
     "name": "stderr",
     "output_type": "stream",
     "text": [
      "Traceback (most recent call last):\n",
      "  File \"C:\\Users\\frksteenhoff\\Anaconda2\\lib\\site-packages\\geoplotlib\\__init__.py\", line 32, in _runapp\n",
      "    app.start()\n",
      "  File \"C:\\Users\\frksteenhoff\\Anaconda2\\lib\\site-packages\\geoplotlib\\core.py\", line 365, in start\n",
      "    force_zoom=self.geoplotlib_config.requested_zoom)\n",
      "  File \"C:\\Users\\frksteenhoff\\Anaconda2\\lib\\site-packages\\geoplotlib\\core.py\", line 672, in fit\n",
      "    left, top = self.lonlat_to_screen([bbox.west], [bbox.north])\n",
      "  File \"C:\\Users\\frksteenhoff\\Anaconda2\\lib\\site-packages\\geoplotlib\\core.py\", line 750, in lonlat_to_screen\n",
      "    lat_rad = np.radians(lat)\n",
      "TypeError: ufunc 'radians' not supported for the input types, and the inputs could not be safely coerced to any supported types according to the casting rule ''safe''\n"
     ]
    }
   ],
   "source": [
    "data = read_csv('weather_lonlat.csv')\n",
    "# Convert dataframe to dict\n",
    "#for col in plot_data.columns:\n",
    "#    plot_data_d[col] = plot_data[col][:1050].tolist()\n",
    "#plot_data_d\n",
    "\n",
    "# Plotting the geo stations\n",
    "gpl.dot(data)\n",
    "gpl.show()"
   ]
  },
  {
   "cell_type": "code",
   "execution_count": null,
   "metadata": {
    "collapsed": true
   },
   "outputs": [],
   "source": []
  },
  {
   "cell_type": "code",
   "execution_count": null,
   "metadata": {
    "collapsed": true
   },
   "outputs": [],
   "source": []
  }
 ],
 "metadata": {
  "kernelspec": {
   "display_name": "Python [Root]",
   "language": "python",
   "name": "Python [Root]"
  },
  "language_info": {
   "codemirror_mode": {
    "name": "ipython",
    "version": 2
   },
   "file_extension": ".py",
   "mimetype": "text/x-python",
   "name": "python",
   "nbconvert_exporter": "python",
   "pygments_lexer": "ipython2",
   "version": "2.7.12"
  }
 },
 "nbformat": 4,
 "nbformat_minor": 2
}
