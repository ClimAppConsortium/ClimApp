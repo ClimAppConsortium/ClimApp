{
 "cells": [
  {
   "cell_type": "markdown",
   "metadata": {},
   "source": [
    "# <span style=\"color:darkgreen\">ClimApp</span>\n",
    "![](https://govje.azureedge.net/JerseyMet/images/icons/h.svg)\n",
    "Jupyter notebook documenting the initial thoughts and implementations for the [ERA4CS](http://www.jpi-climate.eu/ERA4CS) sponsored app, ClimApp.\n",
    "\n",
    "All related code is added to the following [GitHub repository](https://github.com/frksteenhoff/ClimApp). A kanban board showing the current development progress is found [here](https://github.com/frksteenhoff/ClimApp/projects). \n",
    "\n",
    "The final app should be ready for release in 2020, the prototype is expected to be finished end 2017.\n",
    "\n",
    "-----"
   ]
  },
  {
   "cell_type": "markdown",
   "metadata": {},
   "source": [
    "## <span style=\"color:darkgreen\">Links</span>\n",
    "*For stakeolders*\n",
    "* Webpage - https://github.com/frksteenhoff/ClimApp/index.html\n",
    "* App - https://github.com/frksteenhoff/ClimApp\n",
    "* Documentation - https://github.com/frksteenhoff/ClimApp/wiki"
   ]
  },
  {
   "cell_type": "markdown",
   "metadata": {},
   "source": [
    "----\n",
    "## <span style=\"color:darkgreen\">Notes</span>\n",
    "\n",
    "### <span style=\"color:darkgreen\">Meetings</span>"
   ]
  },
  {
   "cell_type": "markdown",
   "metadata": {},
   "source": [
    "#### *Overall information*\n",
    "* More than 200 people will be a part of beta testing the app. \n",
    "* The app should be implemented on both Android and iOS, starting with Android as they have the largest market share and cover a low-income-users which probably will have an Android device.\n",
    "\n",
    "#### *General criterias for the app*\n",
    "* Fetch data from German weather stations, 4 parameters: humidity, temperature, CO2 + one more.\n",
    "* Other parameters: respiration, clothing, radiation, convection, evaporation\n",
    "* Have to be able to input personal characteristics (*more on these will be added as they are discussed*)\n",
    "  * Age\n",
    "  * Weight\n",
    "  * Height\n",
    "  * Gender \n",
    "  * Acclimatization level \n",
    "  * Clothing\n",
    "* Incorporate an architecture that allows saving of user data \n",
    "* Remember individual user settings \n",
    "* Calculations for the individual user should be performed based on all user input.\n",
    "* The calculations should make it possible to suggest a change in user behaviour, adaption stragtegies (change of attire, drink more water etc.)\n",
    "* Notifications should appear if sudden change in climate both on daily and over a period of time. Notifications will in the beginning only be on a day-to-day forecasting basis giving the user information in the morning before leaving for work, later on the user should be able to set this in his/her settings.\n",
    "* Support of different clothing categories (where do we get the images?)\n",
    "* Calculations based on clothing - cold/hot mode - insulation measured in *clo* (need more information on modes)\n",
    "\n",
    "\n",
    "\n",
    "\n",
    "#### *Advanced criterias*\n",
    "* Forecast for a longer period of time\n",
    "* Use input directly from smartphone's accelerometer\n",
    "* The app should be able to support several European languages (hopefully for the whole world)\n",
    "\n",
    "#### *Overall goal*\n",
    "* Forcast\n",
    "* Give helpful, personalized advice\n",
    "* Suggest changes in behaviour\n",
    "\n",
    "#### **The interface** - first idea\n",
    "* 3 screens w. sliding functionality\n",
    "  * Dashboard/home screen\n",
    "  * Personal settings\n",
    "  * Clothing\n",
    "* User-friendly, interactive, input user characteristics"
   ]
  },
  {
   "cell_type": "markdown",
   "metadata": {},
   "source": [
    "-----\n",
    "### <span style=\"color:darkgreen\">Requirement specifications</span>\n",
    "#### *Prototype*\n",
    "\n",
    "#### *Final app*\n",
    "\n",
    "#### *Questions and other notes*\n",
    "* How to switch between modes - what decides when to change?\n",
    "* Where do we get the pictures for the app? (have to be in different resolutions for different phones)\n",
    "* Can I decide upon the release process?\n",
    "* Who should be able to change the code in the codebase?\n",
    "* Someone to review changes before they are added?\n",
    "* Owner when publishing app?\n",
    "* Website describing the project and linking to the app? (would love to make one)\n",
    "* Long term: API to access our data from the app? Who should be able to access? What do they need to log in?\n",
    "* Storage time?\n",
    "* GDPR and user information?\n",
    "* Sign up questionaire - who will make the questions?\n",
    "* Consider Azure/Hadoop\n",
    "* Backlog of future development ideas on GitHub?\n"
   ]
  },
  {
   "cell_type": "markdown",
   "metadata": {},
   "source": [
    "-----\n",
    "\n",
    "## <span style=\"color:darkgreen\">Personal links</span>"
   ]
  },
  {
   "cell_type": "markdown",
   "metadata": {},
   "source": [
    "#### Markdown \n",
    "* Markdown good to know - https://github.com/adam-p/markdown-here/wiki/Markdown-Cheatsheet\n",
    "\n",
    "#### Implementation\n",
    "\n",
    "*Language specific*\n",
    "\n",
    "#### Launch\n",
    "* Launch checklist - https://developer.android.com/distribute/best-practices/launch/launch-checklist.html\n"
   ]
  }
 ],
 "metadata": {
  "anaconda-cloud": {},
  "kernelspec": {
   "display_name": "Python [Root]",
   "language": "python",
   "name": "Python [Root]"
  },
  "language_info": {
   "codemirror_mode": {
    "name": "ipython",
    "version": 2
   },
   "file_extension": ".py",
   "mimetype": "text/x-python",
   "name": "python",
   "nbconvert_exporter": "python",
   "pygments_lexer": "ipython2",
   "version": "2.7.12"
  }
 },
 "nbformat": 4,
 "nbformat_minor": 2
}
