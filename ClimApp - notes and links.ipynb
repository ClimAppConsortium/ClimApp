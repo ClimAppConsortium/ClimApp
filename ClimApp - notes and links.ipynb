{
 "cells": [
  {
   "cell_type": "markdown",
   "metadata": {},
   "source": [
    "# ClimApp\n",
    "Jupyter notebook documenting the initial thoughts and implementations for the [ERA4CS](http://www.jpi-climate.eu/ERA4CS) sponsored app, ClimApp.\n",
    "\n",
    "All related code is added to the following [GitHub repository](https://github.com/frksteenhoff/ClimApp)\n",
    "\n",
    "-----"
   ]
  },
  {
   "cell_type": "markdown",
   "metadata": {},
   "source": [
    "## Notes\n",
    "\n",
    "### Meetings"
   ]
  },
  {
   "cell_type": "markdown",
   "metadata": {},
   "source": [
    "#### *Overall information*\n",
    "* More than 200 people will be a part of beta testing the app. \n",
    "* The app should be implemented on both Android and iOS, starting with Android as they have the largest market share and cover a low-income-users which probably will have an Android device.\n",
    "\n",
    "#### *General criterias for the app*\n",
    "* Fetch data from German weather stations, 4 parameters: humidity, temperature, CO2 + one more. \n",
    "* Have to be able to input personal characteristics (*more on these will be added as they are discussed*)\n",
    "  * Age\n",
    "  * Weight\n",
    "  * Height\n",
    "  * Gender \n",
    "  * Acclimatization level \n",
    "  * Clothing\n",
    "* Incorporate an architecture that allows for saving of user data + logging of chosen attire for \"cold\" and \"warm\" weather.\n",
    "* Calculations for the individual user should be performed based on all user input.\n",
    "* The calculations should make it possible to suggest a change in user behaviour, adaption stragtegies (change of attire, drink more water etc.)\n",
    "* Notifications should appear if sudden change in climate both on daily and over a period of time. Notifications will in the beginning only be on a day-to-day forecasting basis giving the user information in the morning before leaving for work, later on the user should be able to set this in his/her settings.\n",
    "* The app should be able to support several European languages (hopefully for the whole world)\n",
    "* \n",
    "\n",
    "#### *Advanced criterias*\n",
    "* Forecast for a longer period of time\n",
    "* \n",
    "\n",
    "#### *Overall goal*\n",
    "* Forcast\n",
    "* Give helpful, personalized advice\n",
    "* Suggest changes in behaviour\n",
    "\n",
    "#### **The interface** - first idea\n",
    "* 3 screens w. sliding functionality\n",
    "  * Dashboard/home screen\n",
    "  * Personal settings\n",
    "  * General settings\n",
    "* User-friendly, interactive, input user characteristics"
   ]
  },
  {
   "cell_type": "markdown",
   "metadata": {},
   "source": [
    "### Requirement specifications\n",
    "#### *Prototype*\n",
    "\n",
    "\n",
    "#### *Final app*"
   ]
  },
  {
   "cell_type": "markdown",
   "metadata": {},
   "source": [
    "#### TO DO"
   ]
  },
  {
   "cell_type": "markdown",
   "metadata": {},
   "source": []
  },
  {
   "cell_type": "markdown",
   "metadata": {},
   "source": [
    "----\n",
    "## Links"
   ]
  },
  {
   "cell_type": "markdown",
   "metadata": {},
   "source": [
    "### App development (for stakeholders)\n",
    "* Webpage - https://github.com/frksteenhoff/ClimApp/index.html"
   ]
  },
  {
   "cell_type": "markdown",
   "metadata": {},
   "source": [
    "#### Markdown \n",
    "* Markdown good to know - https://github.com/adam-p/markdown-here/wiki/Markdown-Cheatsheet\n",
    "\n",
    "#### Implementation\n",
    "\n",
    "*Language specific*\n",
    "\n",
    "#### Launch\n",
    "* Launch checklist - https://developer.android.com/distribute/best-practices/launch/launch-checklist.html\n"
   ]
  },
  {
   "cell_type": "code",
   "execution_count": null,
   "metadata": {
    "collapsed": true
   },
   "outputs": [],
   "source": []
  }
 ],
 "metadata": {
  "anaconda-cloud": {},
  "kernelspec": {
   "display_name": "Python [Root]",
   "language": "python",
   "name": "Python [Root]"
  },
  "language_info": {
   "codemirror_mode": {
    "name": "ipython",
    "version": 2
   },
   "file_extension": ".py",
   "mimetype": "text/x-python",
   "name": "python",
   "nbconvert_exporter": "python",
   "pygments_lexer": "ipython2",
   "version": "2.7.12"
  }
 },
 "nbformat": 4,
 "nbformat_minor": 2
}
